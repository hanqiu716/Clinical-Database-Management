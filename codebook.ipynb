{
 "cells": [
  {
   "cell_type": "markdown",
   "metadata": {},
   "source": [
    "#### Aim: Create a codebook dataframe for every categorical variable from ClinCapture data\n",
    "#### Input: folder---Integer_keys1\n",
    "#### Output: file---codebook.csv"
   ]
  },
  {
   "cell_type": "code",
   "execution_count": 1,
   "metadata": {
    "collapsed": true
   },
   "outputs": [],
   "source": [
    "import pandas as pd"
   ]
  },
  {
   "cell_type": "code",
   "execution_count": 2,
   "metadata": {
    "collapsed": false
   },
   "outputs": [],
   "source": [
    "#set directory to textfile folder\n",
    "import os\n",
    "os.chdir('C:/Users/SpectralMD/Desktop/integer_keys1')\n",
    "os.path.abspath('.')\n",
    "rootDir= '.'\n",
    "    "
   ]
  },
  {
   "cell_type": "code",
   "execution_count": 3,
   "metadata": {
    "collapsed": false
   },
   "outputs": [],
   "source": [
    "#Get filename to name table\n",
    "for dirName, subdirList, fileList in os.walk(rootDir, topdown=False):\n",
    "    file_names=[]\n",
    "    for fname in fileList:\n",
    "        (name, ex)=fname.split(\".\")\n",
    "        file_names.append(name)"
   ]
  },
  {
   "cell_type": "code",
   "execution_count": 4,
   "metadata": {
    "collapsed": false
   },
   "outputs": [],
   "source": [
    "# Get information for all files\n",
    "result=[]\n",
    "for fname in file_names:\n",
    "    list_of_lists = []\n",
    "    with open(fname+'.txt') as f:\n",
    "        for line in f:\n",
    "            inner_list = [elt.strip() for elt in line.split('\\t')]\n",
    "        # in alternative, if you need to use the file content as numbers\n",
    "        # inner_list = [int(elt.strip()) for elt in line.split(',')]\n",
    "            list_of_lists.append(inner_list)\n",
    "    df = pd.DataFrame(list_of_lists)\n",
    "    df[3] = df[0].map(str) +\":\"+ df[1]\n",
    "    res = \"\"\n",
    "    for i in range(len(df)-1):\n",
    "        res=res+df[3][i]+\",\"\n",
    "    res= res+df[3][len(df)-1]\n",
    "    result.append(res)\n",
    "\n",
    "      \n"
   ]
  },
  {
   "cell_type": "code",
   "execution_count": 5,
   "metadata": {
    "collapsed": false
   },
   "outputs": [
    {
     "data": {
      "text/html": [
       "<div>\n",
       "<table border=\"1\" class=\"dataframe\">\n",
       "  <thead>\n",
       "    <tr style=\"text-align: right;\">\n",
       "      <th></th>\n",
       "      <th>Feature</th>\n",
       "      <th>content</th>\n",
       "    </tr>\n",
       "  </thead>\n",
       "  <tbody>\n",
       "    <tr>\n",
       "      <th>0</th>\n",
       "      <td>30damp</td>\n",
       "      <td>0:toe,1:trans-metatarsal,2:through-ankle,3:bel...</td>\n",
       "    </tr>\n",
       "    <tr>\n",
       "      <th>1</th>\n",
       "      <td>30d_debride_type</td>\n",
       "      <td>0:chemical/enzymatic,1:mechanical,2:sharp,3:no...</td>\n",
       "    </tr>\n",
       "    <tr>\n",
       "      <th>2</th>\n",
       "      <td>30d_progress</td>\n",
       "      <td>0:improved,1:worsening,2:no change</td>\n",
       "    </tr>\n",
       "    <tr>\n",
       "      <th>3</th>\n",
       "      <td>30d_status</td>\n",
       "      <td>0:healed,1:not healed</td>\n",
       "    </tr>\n",
       "    <tr>\n",
       "      <th>4</th>\n",
       "      <td>30d_treatment</td>\n",
       "      <td>0:primary dressing,1:compression,2:off-loading...</td>\n",
       "    </tr>\n",
       "  </tbody>\n",
       "</table>\n",
       "</div>"
      ],
      "text/plain": [
       "            Feature                                            content\n",
       "0            30damp  0:toe,1:trans-metatarsal,2:through-ankle,3:bel...\n",
       "1  30d_debride_type  0:chemical/enzymatic,1:mechanical,2:sharp,3:no...\n",
       "2      30d_progress                 0:improved,1:worsening,2:no change\n",
       "3        30d_status                              0:healed,1:not healed\n",
       "4     30d_treatment  0:primary dressing,1:compression,2:off-loading..."
      ]
     },
     "execution_count": 5,
     "metadata": {},
     "output_type": "execute_result"
    }
   ],
   "source": [
    "d = {'Feature': file_names, 'content': result}\n",
    "codebook = pd.DataFrame(data=d)\n",
    "codebook.head()"
   ]
  },
  {
   "cell_type": "code",
   "execution_count": 6,
   "metadata": {
    "collapsed": true
   },
   "outputs": [],
   "source": [
    "codebook.to_csv('C:/Users/SpectralMD/Desktop/clindata/codebook.csv',header=False)"
   ]
  },
  {
   "cell_type": "code",
   "execution_count": null,
   "metadata": {
    "collapsed": true
   },
   "outputs": [],
   "source": []
  }
 ],
 "metadata": {
  "kernelspec": {
   "display_name": "Python 3",
   "language": "python",
   "name": "python3"
  },
  "language_info": {
   "codemirror_mode": {
    "name": "ipython",
    "version": 3
   },
   "file_extension": ".py",
   "mimetype": "text/x-python",
   "name": "python",
   "nbconvert_exporter": "python",
   "pygments_lexer": "ipython3",
   "version": "3.5.1"
  }
 },
 "nbformat": 4,
 "nbformat_minor": 0
}
