{
 "cells": [
  {
   "cell_type": "markdown",
   "metadata": {},
   "source": [
    "#### Aim: Import codebook.csv into clinical_info database in Mysql\n",
    "#### Input: codebook.csv"
   ]
  },
  {
   "cell_type": "code",
   "execution_count": 1,
   "metadata": {
    "collapsed": false
   },
   "outputs": [],
   "source": [
    "\n",
    "#set directory to textfile folder\n",
    "import os\n",
    "os.chdir('C:/Users/SpectralMD/Desktop/clindata')\n",
    "os.path.abspath('.')\n",
    "rootDir= '.'\n",
    "    \n",
    "\n",
    "\n",
    "#connect to mysql\n",
    "import mysql.connector\n",
    "\n",
    "#tell me if connection isn't working\n",
    "from mysql.connector import errorcode\n",
    "\n",
    "try:\n",
    "  config={\n",
    "    'user': 'root',\n",
    "    'password': '123456',\n",
    "    'host': 'localhost',\n",
    "    'database': 'clinical_info',\n",
    "    'raise_on_warnings': True,\n",
    "    }\n",
    "  cnx= mysql.connector.connect(**config)\n",
    "\n",
    "except mysql.connector.Error as err:\n",
    "  if err.errno == errorcode.ER_ACCESS_DENIED_ERROR:\n",
    "    print(\"Something is wrong with your user name or password\")\n",
    "  elif err.errno == errorcode.ER_BAD_DB_ERROR:\n",
    "    print(\"Database does not exist\")\n",
    "  else:\n",
    "    print(err)\n",
    "\n",
    "\n",
    "\n",
    "        \n",
    "        \n",
    "        \n",
    "    \n"
   ]
  },
  {
   "cell_type": "code",
   "execution_count": 2,
   "metadata": {
    "collapsed": false
   },
   "outputs": [],
   "source": [
    "cur=cnx.cursor()\n",
    "filename = \"codebook1\"\n",
    "cur.execute(\"DROP TABLE %s;\" %(filename))\n",
    "cur.execute(\"CREATE TABLE %s(id INT(11) PRIMARY KEY, feature VARCHAR(100), content VARCHAR(1000));\" %(filename))\n",
    "\n",
    "#cur.execute(\"CREATE TABLE %s(id int auto_increment PRIMARY KEY, resp_id INT(11), feature VARCHAR(100), content VARCHAR(1000));\" %(filename))\n",
    "#cur.execute(\"ALTER TABLE %s DROP PRIMARY KEY, ADD PRIMARY KEY(feature);\"%(filename))\n",
    "\n",
    "\n",
    "#cur.execute(\"ALTER TABLE %s DROP PRIMARY KEY, ADD PRIMARY KEY(resp_id,resp);\"%(filename))\n",
    "    "
   ]
  },
  {
   "cell_type": "code",
   "execution_count": 3,
   "metadata": {
    "collapsed": false
   },
   "outputs": [],
   "source": [
    "\n",
    "loc='C:/Users/SpectralMD/Desktop/clindata/codebook.txt'\n",
    "cur.execute(\"LOAD DATA LOCAL INFILE '%s' INTO TABLE %s(id, feature, content);\" %(loc, filename))\n",
    "cnx.commit() "
   ]
  },
  {
   "cell_type": "code",
   "execution_count": null,
   "metadata": {
    "collapsed": true
   },
   "outputs": [],
   "source": []
  }
 ],
 "metadata": {
  "kernelspec": {
   "display_name": "Python 3",
   "language": "python",
   "name": "python3"
  },
  "language_info": {
   "codemirror_mode": {
    "name": "ipython",
    "version": 3
   },
   "file_extension": ".py",
   "mimetype": "text/x-python",
   "name": "python",
   "nbconvert_exporter": "python",
   "pygments_lexer": "ipython3",
   "version": "3.5.1"
  }
 },
 "nbformat": 4,
 "nbformat_minor": 0
}
